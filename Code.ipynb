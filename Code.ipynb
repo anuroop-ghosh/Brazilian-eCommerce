{
  "cells": [
    {
      "cell_type": "markdown",
      "metadata": {
        "id": "view-in-github",
        "colab_type": "text"
      },
      "source": [
        "<a href=\"https://colab.research.google.com/github/anuroop-ghosh/Brazilian-eCommerce/blob/main/AIP_Assignment.ipynb\" target=\"_parent\"><img src=\"https://colab.research.google.com/assets/colab-badge.svg\" alt=\"Open In Colab\"/></a>"
      ]
    },
    {
      "cell_type": "code",
      "execution_count": 1,
      "metadata": {
        "colab": {
          "base_uri": "https://localhost:8080/"
        },
        "id": "6OIqABf1SVOL",
        "outputId": "cccbc9ba-ffc6-4441-928e-fe21085cfb22"
      },
      "outputs": [
        {
          "output_type": "stream",
          "name": "stdout",
          "text": [
            "Collecting geohash2\n",
            "  Downloading geohash2-1.1.tar.gz (15 kB)\n",
            "  Preparing metadata (setup.py) ... \u001b[?25l\u001b[?25hdone\n",
            "Requirement already satisfied: docutils>=0.3 in /usr/local/lib/python3.10/dist-packages (from geohash2) (0.21.2)\n",
            "Building wheels for collected packages: geohash2\n",
            "  Building wheel for geohash2 (setup.py) ... \u001b[?25l\u001b[?25hdone\n",
            "  Created wheel for geohash2: filename=geohash2-1.1-py3-none-any.whl size=15543 sha256=25faf4f023205bf16996c93b29c1829cc48b31c219b7e2e8f084409942e2482a\n",
            "  Stored in directory: /root/.cache/pip/wheels/c0/21/8d/fe65503f4f439aef35193e5ec10a14adc945e20ff87eb35895\n",
            "Successfully built geohash2\n",
            "Installing collected packages: geohash2\n",
            "Successfully installed geohash2-1.1\n"
          ]
        }
      ],
      "source": [
        "!pip install geohash2"
      ]
    },
    {
      "cell_type": "code",
      "execution_count": 2,
      "metadata": {
        "colab": {
          "base_uri": "https://localhost:8080/",
          "height": 35
        },
        "id": "Aa4dJ74fGBzQ",
        "outputId": "01fa3e7c-b20b-4be0-c77c-c8ab844c65b7"
      },
      "outputs": [
        {
          "output_type": "display_data",
          "data": {
            "text/plain": [
              "<IPython.core.display.HTML object>"
            ],
            "text/html": [
              "\n",
              "     <input type=\"file\" id=\"files-daa19de6-cb8e-461c-8f9c-6249c7e34c23\" name=\"files[]\" multiple disabled\n",
              "        style=\"border:none\" />\n",
              "     <output id=\"result-daa19de6-cb8e-461c-8f9c-6249c7e34c23\">\n",
              "      Upload widget is only available when the cell has been executed in the\n",
              "      current browser session. Please rerun this cell to enable.\n",
              "      </output>\n",
              "      <script>// Copyright 2017 Google LLC\n",
              "//\n",
              "// Licensed under the Apache License, Version 2.0 (the \"License\");\n",
              "// you may not use this file except in compliance with the License.\n",
              "// You may obtain a copy of the License at\n",
              "//\n",
              "//      http://www.apache.org/licenses/LICENSE-2.0\n",
              "//\n",
              "// Unless required by applicable law or agreed to in writing, software\n",
              "// distributed under the License is distributed on an \"AS IS\" BASIS,\n",
              "// WITHOUT WARRANTIES OR CONDITIONS OF ANY KIND, either express or implied.\n",
              "// See the License for the specific language governing permissions and\n",
              "// limitations under the License.\n",
              "\n",
              "/**\n",
              " * @fileoverview Helpers for google.colab Python module.\n",
              " */\n",
              "(function(scope) {\n",
              "function span(text, styleAttributes = {}) {\n",
              "  const element = document.createElement('span');\n",
              "  element.textContent = text;\n",
              "  for (const key of Object.keys(styleAttributes)) {\n",
              "    element.style[key] = styleAttributes[key];\n",
              "  }\n",
              "  return element;\n",
              "}\n",
              "\n",
              "// Max number of bytes which will be uploaded at a time.\n",
              "const MAX_PAYLOAD_SIZE = 100 * 1024;\n",
              "\n",
              "function _uploadFiles(inputId, outputId) {\n",
              "  const steps = uploadFilesStep(inputId, outputId);\n",
              "  const outputElement = document.getElementById(outputId);\n",
              "  // Cache steps on the outputElement to make it available for the next call\n",
              "  // to uploadFilesContinue from Python.\n",
              "  outputElement.steps = steps;\n",
              "\n",
              "  return _uploadFilesContinue(outputId);\n",
              "}\n",
              "\n",
              "// This is roughly an async generator (not supported in the browser yet),\n",
              "// where there are multiple asynchronous steps and the Python side is going\n",
              "// to poll for completion of each step.\n",
              "// This uses a Promise to block the python side on completion of each step,\n",
              "// then passes the result of the previous step as the input to the next step.\n",
              "function _uploadFilesContinue(outputId) {\n",
              "  const outputElement = document.getElementById(outputId);\n",
              "  const steps = outputElement.steps;\n",
              "\n",
              "  const next = steps.next(outputElement.lastPromiseValue);\n",
              "  return Promise.resolve(next.value.promise).then((value) => {\n",
              "    // Cache the last promise value to make it available to the next\n",
              "    // step of the generator.\n",
              "    outputElement.lastPromiseValue = value;\n",
              "    return next.value.response;\n",
              "  });\n",
              "}\n",
              "\n",
              "/**\n",
              " * Generator function which is called between each async step of the upload\n",
              " * process.\n",
              " * @param {string} inputId Element ID of the input file picker element.\n",
              " * @param {string} outputId Element ID of the output display.\n",
              " * @return {!Iterable<!Object>} Iterable of next steps.\n",
              " */\n",
              "function* uploadFilesStep(inputId, outputId) {\n",
              "  const inputElement = document.getElementById(inputId);\n",
              "  inputElement.disabled = false;\n",
              "\n",
              "  const outputElement = document.getElementById(outputId);\n",
              "  outputElement.innerHTML = '';\n",
              "\n",
              "  const pickedPromise = new Promise((resolve) => {\n",
              "    inputElement.addEventListener('change', (e) => {\n",
              "      resolve(e.target.files);\n",
              "    });\n",
              "  });\n",
              "\n",
              "  const cancel = document.createElement('button');\n",
              "  inputElement.parentElement.appendChild(cancel);\n",
              "  cancel.textContent = 'Cancel upload';\n",
              "  const cancelPromise = new Promise((resolve) => {\n",
              "    cancel.onclick = () => {\n",
              "      resolve(null);\n",
              "    };\n",
              "  });\n",
              "\n",
              "  // Wait for the user to pick the files.\n",
              "  const files = yield {\n",
              "    promise: Promise.race([pickedPromise, cancelPromise]),\n",
              "    response: {\n",
              "      action: 'starting',\n",
              "    }\n",
              "  };\n",
              "\n",
              "  cancel.remove();\n",
              "\n",
              "  // Disable the input element since further picks are not allowed.\n",
              "  inputElement.disabled = true;\n",
              "\n",
              "  if (!files) {\n",
              "    return {\n",
              "      response: {\n",
              "        action: 'complete',\n",
              "      }\n",
              "    };\n",
              "  }\n",
              "\n",
              "  for (const file of files) {\n",
              "    const li = document.createElement('li');\n",
              "    li.append(span(file.name, {fontWeight: 'bold'}));\n",
              "    li.append(span(\n",
              "        `(${file.type || 'n/a'}) - ${file.size} bytes, ` +\n",
              "        `last modified: ${\n",
              "            file.lastModifiedDate ? file.lastModifiedDate.toLocaleDateString() :\n",
              "                                    'n/a'} - `));\n",
              "    const percent = span('0% done');\n",
              "    li.appendChild(percent);\n",
              "\n",
              "    outputElement.appendChild(li);\n",
              "\n",
              "    const fileDataPromise = new Promise((resolve) => {\n",
              "      const reader = new FileReader();\n",
              "      reader.onload = (e) => {\n",
              "        resolve(e.target.result);\n",
              "      };\n",
              "      reader.readAsArrayBuffer(file);\n",
              "    });\n",
              "    // Wait for the data to be ready.\n",
              "    let fileData = yield {\n",
              "      promise: fileDataPromise,\n",
              "      response: {\n",
              "        action: 'continue',\n",
              "      }\n",
              "    };\n",
              "\n",
              "    // Use a chunked sending to avoid message size limits. See b/62115660.\n",
              "    let position = 0;\n",
              "    do {\n",
              "      const length = Math.min(fileData.byteLength - position, MAX_PAYLOAD_SIZE);\n",
              "      const chunk = new Uint8Array(fileData, position, length);\n",
              "      position += length;\n",
              "\n",
              "      const base64 = btoa(String.fromCharCode.apply(null, chunk));\n",
              "      yield {\n",
              "        response: {\n",
              "          action: 'append',\n",
              "          file: file.name,\n",
              "          data: base64,\n",
              "        },\n",
              "      };\n",
              "\n",
              "      let percentDone = fileData.byteLength === 0 ?\n",
              "          100 :\n",
              "          Math.round((position / fileData.byteLength) * 100);\n",
              "      percent.textContent = `${percentDone}% done`;\n",
              "\n",
              "    } while (position < fileData.byteLength);\n",
              "  }\n",
              "\n",
              "  // All done.\n",
              "  yield {\n",
              "    response: {\n",
              "      action: 'complete',\n",
              "    }\n",
              "  };\n",
              "}\n",
              "\n",
              "scope.google = scope.google || {};\n",
              "scope.google.colab = scope.google.colab || {};\n",
              "scope.google.colab._files = {\n",
              "  _uploadFiles,\n",
              "  _uploadFilesContinue,\n",
              "};\n",
              "})(self);\n",
              "</script> "
            ]
          },
          "metadata": {}
        }
      ],
      "source": [
        "import pandas as pd\n",
        "import numpy as np\n",
        "import matplotlib.pyplot as plt\n",
        "import seaborn as sns\n",
        "import warnings\n",
        "warnings.filterwarnings(\"ignore\")\n",
        "import geohash2 as geohash\n",
        "from geopy.geocoders import Nominatim\n",
        "from math import radians, cos, sin, asin, sqrt\n",
        "from geopy.distance import geodesic\n",
        "from sklearn.svm import SVC\n",
        "svm_algo = SVC(C=1.0, kernel='rbf', gamma=1e-3)\n",
        "from sklearn.linear_model import LogisticRegression as LogR\n",
        "from sklearn.ensemble import RandomForestClassifier as RF\n",
        "from sklearn.ensemble import GradientBoostingClassifier as GBDT\n",
        "from xgboost import XGBClassifier as XGB\n",
        "from sklearn.preprocessing import StandardScaler\n",
        "from sklearn.metrics import precision_recall_fscore_support\n",
        "from sklearn.model_selection import RandomizedSearchCV\n",
        "from scipy.stats import uniform, randint\n",
        "from sklearn.model_selection  import train_test_split\n",
        "from sklearn.tree import DecisionTreeClassifier as tree\n",
        "from sklearn.metrics import accuracy_score, precision_recall_fscore_support\n",
        "from google.colab import files\n",
        "upload = files.upload()"
      ]
    },
    {
      "cell_type": "code",
      "execution_count": 3,
      "metadata": {
        "id": "M84G9uPq_2yd"
      },
      "outputs": [],
      "source": [
        "customers_dataset = pd.read_csv(\"olist_customers_dataset.csv\")\n",
        "order_items_dataset = pd.read_csv(\"olist_order_items_dataset.csv\")\n",
        "order_payments_dataset = pd.read_csv(\"olist_order_payments_dataset.csv\")\n",
        "order_reviews_dataset = pd.read_csv(\"olist_order_reviews_dataset.csv\")\n",
        "orders_dataset = pd.read_csv(\"olist_orders_dataset.csv\")\n",
        "products_dataset = pd.read_csv(\"olist_products_dataset.csv\")\n",
        "sellers_dataset = pd.read_csv(\"olist_sellers_dataset.csv\")\n",
        "geolocation_dataset = pd.read_csv(\"olist_geolocation_dataset.csv\")\n",
        "translation_dataset = pd.read_csv(\"product_category_name_translation.csv\")"
      ]
    },
    {
      "cell_type": "code",
      "execution_count": 4,
      "metadata": {
        "id": "PfGvr1oMFddn",
        "colab": {
          "base_uri": "https://localhost:8080/"
        },
        "outputId": "e64fa8c0-b779-4a24-f0d7-6089de2fc807"
      },
      "outputs": [
        {
          "output_type": "stream",
          "name": "stdout",
          "text": [
            "\n",
            " Customers Dataset \n",
            "\n",
            " customer_id                 0\n",
            "customer_unique_id          0\n",
            "customer_zip_code_prefix    0\n",
            "customer_city               0\n",
            "customer_state              0\n",
            "dtype: int64\n",
            "\n",
            " Order Items Dataset \n",
            "\n",
            " order_id               0\n",
            "order_item_id          0\n",
            "product_id             0\n",
            "seller_id              0\n",
            "shipping_limit_date    0\n",
            "price                  0\n",
            "freight_value          0\n",
            "dtype: int64\n",
            "\n",
            " Order Payments Dataset \n",
            "\n",
            " order_id                0\n",
            "payment_sequential      0\n",
            "payment_type            0\n",
            "payment_installments    0\n",
            "payment_value           0\n",
            "dtype: int64\n",
            "\n",
            " Order Reviews Dataset \n",
            "\n",
            " review_id                      0\n",
            "order_id                       0\n",
            "review_score                   0\n",
            "review_comment_title       79404\n",
            "review_comment_message     52429\n",
            "review_creation_date           0\n",
            "review_answer_timestamp        0\n",
            "dtype: int64\n",
            "\n",
            " Orders Dataset \n",
            "\n",
            " order_id                            0\n",
            "customer_id                         0\n",
            "order_status                        0\n",
            "order_purchase_timestamp            0\n",
            "order_approved_at                 160\n",
            "order_delivered_carrier_date     1783\n",
            "order_delivered_customer_date    2965\n",
            "order_estimated_delivery_date       0\n",
            "dtype: int64\n",
            "\n",
            " Products Dataset \n",
            "\n",
            " product_id                      0\n",
            "product_category_name         610\n",
            "product_name_lenght           610\n",
            "product_description_lenght    610\n",
            "product_photos_qty            610\n",
            "product_weight_g                2\n",
            "product_length_cm               2\n",
            "product_height_cm               2\n",
            "product_width_cm                2\n",
            "dtype: int64\n",
            "\n",
            " Sellers Dataset \n",
            "\n",
            " seller_id                 0\n",
            "seller_zip_code_prefix    0\n",
            "seller_city               0\n",
            "seller_state              0\n",
            "dtype: int64\n"
          ]
        }
      ],
      "source": [
        "print(\"\\n Customers Dataset \\n\\n\", customers_dataset.isnull().sum())\n",
        "#print(\"\\n Geolocation Dataset \\n\\n\", geolocation_dataset.isnull().sum())\n",
        "print(\"\\n Order Items Dataset \\n\\n\", order_items_dataset.isnull().sum())\n",
        "print(\"\\n Order Payments Dataset \\n\\n\", order_payments_dataset.isnull().sum())\n",
        "print(\"\\n Order Reviews Dataset \\n\\n\", order_reviews_dataset.isnull().sum())\n",
        "print(\"\\n Orders Dataset \\n\\n\", orders_dataset.isnull().sum())\n",
        "print(\"\\n Products Dataset \\n\\n\", products_dataset.isnull().sum())\n",
        "print(\"\\n Sellers Dataset \\n\\n\", sellers_dataset.isnull().sum())"
      ]
    },
    {
      "cell_type": "markdown",
      "metadata": {
        "id": "nNzj9KVBuOyo"
      },
      "source": [
        "### Turning into dataframes"
      ]
    },
    {
      "cell_type": "code",
      "execution_count": 5,
      "metadata": {
        "id": "vypagzldQhR9"
      },
      "outputs": [],
      "source": [
        "customers = pd.DataFrame(customers_dataset)\n",
        "geolocation = pd.DataFrame(geolocation_dataset)\n",
        "order_items = pd.DataFrame(order_items_dataset)\n",
        "order_payments = pd.DataFrame(order_payments_dataset)\n",
        "order_reviews = pd.DataFrame(order_reviews_dataset)\n",
        "orders = pd.DataFrame(orders_dataset)\n",
        "products = pd.DataFrame(products_dataset)\n",
        "sellers = pd.DataFrame(sellers_dataset)\n",
        "translation = pd.DataFrame(translation_dataset)"
      ]
    },
    {
      "cell_type": "code",
      "execution_count": null,
      "metadata": {
        "colab": {
          "base_uri": "https://localhost:8080/"
        },
        "collapsed": true,
        "id": "U_YMJj6GUjc4",
        "outputId": "acda8f3f-059b-4182-b128-6f74dfc19598"
      },
      "outputs": [
        {
          "output_type": "stream",
          "name": "stdout",
          "text": [
            "<class 'pandas.core.frame.DataFrame'>\n",
            "RangeIndex: 99441 entries, 0 to 99440\n",
            "Data columns (total 8 columns):\n",
            " #   Column                         Non-Null Count  Dtype \n",
            "---  ------                         --------------  ----- \n",
            " 0   order_id                       99441 non-null  object\n",
            " 1   customer_id                    99441 non-null  object\n",
            " 2   order_status                   99441 non-null  object\n",
            " 3   order_purchase_timestamp       99441 non-null  object\n",
            " 4   order_approved_at              99281 non-null  object\n",
            " 5   order_delivered_carrier_date   97658 non-null  object\n",
            " 6   order_delivered_customer_date  96476 non-null  object\n",
            " 7   order_estimated_delivery_date  99441 non-null  object\n",
            "dtypes: object(8)\n",
            "memory usage: 6.1+ MB\n",
            "<class 'pandas.core.frame.DataFrame'>\n",
            "RangeIndex: 99441 entries, 0 to 99440\n",
            "Data columns (total 5 columns):\n",
            " #   Column                    Non-Null Count  Dtype \n",
            "---  ------                    --------------  ----- \n",
            " 0   customer_id               99441 non-null  object\n",
            " 1   customer_unique_id        99441 non-null  object\n",
            " 2   customer_zip_code_prefix  99441 non-null  int64 \n",
            " 3   customer_city             99441 non-null  object\n",
            " 4   customer_state            99441 non-null  object\n",
            "dtypes: int64(1), object(4)\n",
            "memory usage: 3.8+ MB\n",
            "<class 'pandas.core.frame.DataFrame'>\n",
            "RangeIndex: 1000163 entries, 0 to 1000162\n",
            "Data columns (total 5 columns):\n",
            " #   Column                       Non-Null Count    Dtype  \n",
            "---  ------                       --------------    -----  \n",
            " 0   geolocation_zip_code_prefix  1000163 non-null  int64  \n",
            " 1   geolocation_lat              1000163 non-null  float64\n",
            " 2   geolocation_lng              1000163 non-null  float64\n",
            " 3   geolocation_city             1000163 non-null  object \n",
            " 4   geolocation_state            1000163 non-null  object \n",
            "dtypes: float64(2), int64(1), object(2)\n",
            "memory usage: 38.2+ MB\n",
            "<class 'pandas.core.frame.DataFrame'>\n",
            "RangeIndex: 112650 entries, 0 to 112649\n",
            "Data columns (total 7 columns):\n",
            " #   Column               Non-Null Count   Dtype  \n",
            "---  ------               --------------   -----  \n",
            " 0   order_id             112650 non-null  object \n",
            " 1   order_item_id        112650 non-null  int64  \n",
            " 2   product_id           112650 non-null  object \n",
            " 3   seller_id            112650 non-null  object \n",
            " 4   shipping_limit_date  112650 non-null  object \n",
            " 5   price                112650 non-null  float64\n",
            " 6   freight_value        112650 non-null  float64\n",
            "dtypes: float64(2), int64(1), object(4)\n",
            "memory usage: 6.0+ MB\n",
            "<class 'pandas.core.frame.DataFrame'>\n",
            "RangeIndex: 103886 entries, 0 to 103885\n",
            "Data columns (total 5 columns):\n",
            " #   Column                Non-Null Count   Dtype  \n",
            "---  ------                --------------   -----  \n",
            " 0   order_id              103886 non-null  object \n",
            " 1   payment_sequential    103886 non-null  int64  \n",
            " 2   payment_type          103886 non-null  object \n",
            " 3   payment_installments  103886 non-null  int64  \n",
            " 4   payment_value         103886 non-null  float64\n",
            "dtypes: float64(1), int64(2), object(2)\n",
            "memory usage: 4.0+ MB\n",
            "<class 'pandas.core.frame.DataFrame'>\n",
            "RangeIndex: 89999 entries, 0 to 89998\n",
            "Data columns (total 7 columns):\n",
            " #   Column                   Non-Null Count  Dtype \n",
            "---  ------                   --------------  ----- \n",
            " 0   review_id                89999 non-null  object\n",
            " 1   order_id                 89999 non-null  object\n",
            " 2   review_score             89999 non-null  int64 \n",
            " 3   review_comment_title     10595 non-null  object\n",
            " 4   review_comment_message   37570 non-null  object\n",
            " 5   review_creation_date     89999 non-null  object\n",
            " 6   review_answer_timestamp  89999 non-null  object\n",
            "dtypes: int64(1), object(6)\n",
            "memory usage: 4.8+ MB\n",
            "<class 'pandas.core.frame.DataFrame'>\n",
            "RangeIndex: 32951 entries, 0 to 32950\n",
            "Data columns (total 11 columns):\n",
            " #   Column                       Non-Null Count  Dtype  \n",
            "---  ------                       --------------  -----  \n",
            " 0   product_id                   32951 non-null  object \n",
            " 1   product_category_name        32341 non-null  object \n",
            " 2   product_name_lenght          32341 non-null  float64\n",
            " 3   product_description_lenght   32341 non-null  float64\n",
            " 4   product_photos_qty           32341 non-null  float64\n",
            " 5   product_weight_g             32949 non-null  float64\n",
            " 6   product_length_cm            32949 non-null  float64\n",
            " 7   product_height_cm            32949 non-null  float64\n",
            " 8   product_width_cm             32949 non-null  float64\n",
            " 9   product_volumetric_weight_g  32949 non-null  float64\n",
            " 10  volumetric_weight_rating     32951 non-null  int64  \n",
            "dtypes: float64(8), int64(1), object(2)\n",
            "memory usage: 2.8+ MB\n",
            "<class 'pandas.core.frame.DataFrame'>\n",
            "RangeIndex: 3095 entries, 0 to 3094\n",
            "Data columns (total 4 columns):\n",
            " #   Column                  Non-Null Count  Dtype \n",
            "---  ------                  --------------  ----- \n",
            " 0   seller_id               3095 non-null   object\n",
            " 1   seller_zip_code_prefix  3095 non-null   int64 \n",
            " 2   seller_city             3095 non-null   object\n",
            " 3   seller_state            3095 non-null   object\n",
            "dtypes: int64(1), object(3)\n",
            "memory usage: 96.8+ KB\n"
          ]
        }
      ],
      "source": [
        "orders.info()\n",
        "customers.info()\n",
        "geolocation.info()\n",
        "order_items.info()\n",
        "order_payments.info()\n",
        "order_reviews.info()\n",
        "products.info()\n",
        "sellers.info()"
      ]
    },
    {
      "cell_type": "markdown",
      "metadata": {
        "id": "wx3x234ZuPYb"
      },
      "source": [
        "The above has completed the data import and overview\n",
        "\n",
        "---\n",
        "\n"
      ]
    },
    {
      "cell_type": "markdown",
      "metadata": {
        "id": "fAMG9Juzo6pn"
      },
      "source": [
        "# Perform data conversion and labeling before merging data"
      ]
    },
    {
      "cell_type": "markdown",
      "metadata": {
        "id": "IKpy-NS6MdiX"
      },
      "source": [
        "##Calculate and label the volumetric weight of the products"
      ]
    },
    {
      "cell_type": "code",
      "execution_count": 6,
      "metadata": {
        "colab": {
          "base_uri": "https://localhost:8080/"
        },
        "collapsed": true,
        "id": "V_f521s-ZHop",
        "outputId": "ff999a31-0608-42ca-d1f1-7e74ed4ba6e0"
      },
      "outputs": [
        {
          "output_type": "stream",
          "name": "stdout",
          "text": [
            "                             product_id              product_category_name  \\\n",
            "0      1e9e8ef04dbcff4541ed26657ea517e5                         perfumaria   \n",
            "1      3aa071139cb16b67ca9e5dea641aaa2f                              artes   \n",
            "2      96bd76ec8810374ed1b65e291975717f                      esporte_lazer   \n",
            "3      cef67bcfe19066a932b7673e239eb23d                              bebes   \n",
            "4      9dc1a7de274444849c219cff195d0b71              utilidades_domesticas   \n",
            "...                                 ...                                ...   \n",
            "32946  a0b7d5a992ccda646f2d34e418fff5a0                   moveis_decoracao   \n",
            "32947  bf4538d88321d0fd4412a93c974510e6  construcao_ferramentas_iluminacao   \n",
            "32948  9a7c6041fa9592d9d9ef6cfe62a71f8c                    cama_mesa_banho   \n",
            "32949  83808703fc0706a22e264b9d75f04a2e             informatica_acessorios   \n",
            "32950  106392145fca363410d287a815be6de4                    cama_mesa_banho   \n",
            "\n",
            "       product_name_lenght  product_description_lenght  product_photos_qty  \\\n",
            "0                     40.0                       287.0                 1.0   \n",
            "1                     44.0                       276.0                 1.0   \n",
            "2                     46.0                       250.0                 1.0   \n",
            "3                     27.0                       261.0                 1.0   \n",
            "4                     37.0                       402.0                 4.0   \n",
            "...                    ...                         ...                 ...   \n",
            "32946                 45.0                        67.0                 2.0   \n",
            "32947                 41.0                       971.0                 1.0   \n",
            "32948                 50.0                       799.0                 1.0   \n",
            "32949                 60.0                       156.0                 2.0   \n",
            "32950                 58.0                       309.0                 1.0   \n",
            "\n",
            "       product_weight_g  product_length_cm  product_height_cm  \\\n",
            "0                 225.0               16.0               10.0   \n",
            "1                1000.0               30.0               18.0   \n",
            "2                 154.0               18.0                9.0   \n",
            "3                 371.0               26.0                4.0   \n",
            "4                 625.0               20.0               17.0   \n",
            "...                 ...                ...                ...   \n",
            "32946           12300.0               40.0               40.0   \n",
            "32947            1700.0               16.0               19.0   \n",
            "32948            1400.0               27.0                7.0   \n",
            "32949             700.0               31.0               13.0   \n",
            "32950            2083.0               12.0                2.0   \n",
            "\n",
            "       product_width_cm  product_volumetric_weight_g  volumetric_weight_rating  \n",
            "0                  14.0                        448.0                         1  \n",
            "1                  20.0                       2160.0                         3  \n",
            "2                  15.0                        486.0                         1  \n",
            "3                  26.0                        540.8                         2  \n",
            "4                  13.0                        884.0                         2  \n",
            "...                 ...                          ...                       ...  \n",
            "32946              40.0                      12800.0                         5  \n",
            "32947              16.0                        972.8                         2  \n",
            "32948              27.0                       1020.6                         2  \n",
            "32949              20.0                       1612.0                         3  \n",
            "32950               7.0                         33.6                         1  \n",
            "\n",
            "[32951 rows x 11 columns]\n"
          ]
        }
      ],
      "source": [
        "#Calculating the volumetric weight\n",
        "products['product_volumetric_weight_g'] = (products['product_length_cm'] * products['product_width_cm'] * products['product_height_cm'])/5\n",
        "\n",
        "#Ranges are Below 500g, 500-1500g, 1500-3000g, 3000-5000g and above 5000g\n",
        "def volumetric_weight_rating(volumetric_weight):\n",
        "    if volumetric_weight < 500:\n",
        "      return 1\n",
        "    elif volumetric_weight < 1500:\n",
        "      return 2\n",
        "    elif volumetric_weight < 3000:\n",
        "      return 3\n",
        "    elif volumetric_weight < 5000:\n",
        "      return 4\n",
        "    else:\n",
        "      return 5\n",
        "\n",
        "#Applying the volumetric weight rating\n",
        "products['volumetric_weight_rating'] = products['product_volumetric_weight_g'].apply(volumetric_weight_rating)\n",
        "print(products)"
      ]
    },
    {
      "cell_type": "code",
      "execution_count": 7,
      "metadata": {
        "colab": {
          "base_uri": "https://localhost:8080/"
        },
        "id": "Bp-diExMo6U6",
        "outputId": "1503eb42-4112-4806-d29c-6bea1940199a"
      },
      "outputs": [
        {
          "output_type": "stream",
          "name": "stdout",
          "text": [
            "       product_weight_g  product_volume_cm3  product_description_lenght\n",
            "count      32949.000000        32949.000000                32341.000000\n",
            "mean        2276.472488        16564.096695                  771.495285\n",
            "std         4282.038731        27057.041650                  635.115225\n",
            "min            0.000000          168.000000                    4.000000\n",
            "25%          300.000000         2880.000000                  339.000000\n",
            "50%          700.000000         6840.000000                  595.000000\n",
            "75%         1900.000000        18480.000000                  972.000000\n",
            "max        40425.000000       296208.000000                 3992.000000\n",
            "volume_rating\n",
            "1    8205\n",
            "2    8265\n",
            "3    8232\n",
            "4    8249\n",
            "Name: count, dtype: int64 weight_rating\n",
            "1    7211\n",
            "2    8929\n",
            "3    8550\n",
            "4    8261\n",
            "Name: count, dtype: int64 descleng_rating\n",
            "1    31782\n",
            "2      559\n",
            "4      610\n",
            "Name: count, dtype: int64\n"
          ]
        }
      ],
      "source": [
        "# Calculate product volume\n",
        "products['product_volume_cm3'] = products['product_length_cm'] * products['product_width_cm'] * products['product_height_cm']\n",
        "\n",
        "# Define a function to rate\n",
        "print(products[['product_weight_g','product_volume_cm3','product_description_lenght']].describe())\n",
        "\n",
        "def weight_rating(weight):\n",
        "    if weight < 300:\n",
        "        return 1\n",
        "    elif weight < 700:\n",
        "        return 2\n",
        "    elif weight < 1900:\n",
        "        return 3\n",
        "    else:\n",
        "        return 4\n",
        "\n",
        "def volume_rating(volume):\n",
        "    if volume < 2880:\n",
        "        return 1\n",
        "    elif volume < 6840:\n",
        "        return 2\n",
        "    elif volume < 18480:\n",
        "        return 3\n",
        "    else:\n",
        "        return 4\n",
        "\n",
        "def descleng_rating(des_lenghth):\n",
        "    if des_lenghth < 339:\n",
        "        return 1\n",
        "    elif des_lenghth < 595:\n",
        "        return 2\n",
        "    elif des_lenghth < 972:\n",
        "        return 3\n",
        "    else:\n",
        "        return 4\n",
        "\n",
        "# Application rating function\n",
        "products['weight_rating'] = products['product_weight_g'].apply(weight_rating)\n",
        "products['volume_rating'] = products['product_volume_cm3'].apply(volume_rating)\n",
        "products['descleng_rating'] = products['product_description_lenght'].apply(volume_rating)\n",
        "\n",
        "# Inspection: Output processed data\n",
        "volume_rating_counts = products['volume_rating'].value_counts().sort_index()\n",
        "weight_rating_counts = products['weight_rating'].value_counts().sort_index()\n",
        "descleng_rating_counts = products['descleng_rating'].value_counts().sort_index()\n",
        "print(volume_rating_counts,weight_rating_counts,descleng_rating_counts)\n"
      ]
    },
    {
      "cell_type": "markdown",
      "metadata": {
        "id": "GE0U_y09vEYz"
      },
      "source": [
        "## Translation"
      ]
    },
    {
      "cell_type": "code",
      "execution_count": 8,
      "metadata": {
        "colab": {
          "base_uri": "https://localhost:8080/"
        },
        "id": "Xot91qChvBZL",
        "outputId": "772f98eb-b238-4ee4-a7ac-caa894d0818f"
      },
      "outputs": [
        {
          "output_type": "stream",
          "name": "stdout",
          "text": [
            "    product_category_name product_category_english\n",
            "0            beleza_saude            health_beauty\n",
            "1  informatica_acessorios    computers_accessories\n",
            "2              automotivo                     auto\n",
            "3         cama_mesa_banho           bed_bath_table\n",
            "4        moveis_decoracao          furniture_decor\n"
          ]
        }
      ],
      "source": [
        "#Translate to english\n",
        "# Create the translation dictionary\n",
        "Translation_dict = dict(zip(translation['product_category_name'], translation['product_category_name_english']))\n",
        "\n",
        "# Map the 'product_category_name' to its English equivalent\n",
        "translation['product_category_english'] = translation['product_category_name'].map(Translation_dict)\n",
        "\n",
        "# Handle missing translations by falling back to the original 'product_category_name'\n",
        "translation['product_category_english'] = translation['product_category_english'].fillna(translation['product_category_name'])\n",
        "\n",
        "# Check the output\n",
        "print(translation[['product_category_name', 'product_category_english']].head())"
      ]
    },
    {
      "cell_type": "markdown",
      "metadata": {
        "id": "tHMm7hCCTBqu"
      },
      "source": [
        "##Calculate the distance between zipcodes"
      ]
    },
    {
      "cell_type": "code",
      "execution_count": 9,
      "metadata": {
        "id": "x3V7Ihn1TA3-"
      },
      "outputs": [],
      "source": [
        "# Merge the orders and customers datasets on the customer ID to get customer zip code prefixes in the orders DataFrame.\n",
        "orders = pd.merge(orders, customers[['customer_id', 'customer_zip_code_prefix']], on='customer_id', how='left')\n",
        "\n",
        "# Merge the orders dataset with sellers on the 'order_id' column\n",
        "# This will bring the 'seller_zip_code_prefix' into the orders dataset\n",
        "orders = pd.merge(orders, order_items[['order_id', 'seller_id']], on='order_id', how='left')\n",
        "orders = pd.merge(orders, sellers[['seller_id', 'seller_zip_code_prefix']], on='seller_id', how='left')\n",
        "\n",
        "# Create a dictionary to efficiently map zip codes to coordinates\n",
        "# Group by 'geolocation_zip_code_prefix' and aggregate coordinates (e.g., using mean)\n",
        "geolocation_dict = geolocation.groupby('geolocation_zip_code_prefix')[['geolocation_lat', 'geolocation_lng']].mean().to_dict('index')\n",
        "\n",
        "def calculate_distance(row):\n",
        "    customer_zip = row['customer_zip_code_prefix']\n",
        "    seller_zip = row['seller_zip_code_prefix']\n",
        "\n",
        "# Handle missing zip codes:\n",
        "    if pd.isna(customer_zip) or pd.isna(seller_zip):\n",
        "        return np.nan  # Return NaN if either zip code is missing\n",
        "\n",
        "    # Access the latitude and longitude values directly\n",
        "    try:  # Try to access coordinates, if available\n",
        "        customer_coords = (geolocation_dict[customer_zip]['geolocation_lat'], geolocation_dict[customer_zip]['geolocation_lng'])\n",
        "        seller_coords = (geolocation_dict[seller_zip]['geolocation_lat'], geolocation_dict[seller_zip]['geolocation_lng'])\n",
        "        return geodesic(customer_coords, seller_coords).km\n",
        "    except KeyError:  # Handle KeyError if zip code not in dictionary\n",
        "        return np.nan  # Return NaN if zip code not found\n",
        "\n",
        "    return geodesic(customer_coords, seller_coords).km\n",
        "\n",
        "# Calculate distances for each order\n",
        "orders['distance_km'] = orders.apply(calculate_distance, axis=1)"
      ]
    },
    {
      "cell_type": "markdown",
      "metadata": {
        "id": "7HsnXGyzpfQ1"
      },
      "source": [
        "##Calculate the duration of each process"
      ]
    },
    {
      "cell_type": "code",
      "execution_count": 10,
      "metadata": {
        "collapsed": true,
        "id": "YouXIMFypW3E"
      },
      "outputs": [],
      "source": [
        "orders['order_purchase_timestamp'] = pd.to_datetime(orders['order_purchase_timestamp'])\n",
        "orders['order_approved_at'] = pd.to_datetime(orders['order_approved_at'])\n",
        "orders['order_delivered_carrier_date'] = pd.to_datetime(orders['order_delivered_carrier_date'])\n",
        "orders['order_delivered_customer_date'] = pd.to_datetime(orders['order_delivered_customer_date'])\n",
        "orders['order_estimated_delivery_date'] = pd.to_datetime(orders['order_estimated_delivery_date'])\n",
        "\n",
        "order_reviews['review_creation_date'] = pd.to_datetime(order_reviews['review_creation_date'])\n",
        "order_reviews['review_answer_timestamp'] = pd.to_datetime(order_reviews['review_answer_timestamp'])\n",
        "\n",
        "# Calculate the duration (in hours)\n",
        "orders['approval_duration_hours'] = (orders['order_approved_at'] - orders['order_purchase_timestamp']).dt.total_seconds() / 3600\n",
        "\n",
        "# Order shipping time from merchant\n",
        "orders['delivery_fromseller'] = (orders['order_delivered_carrier_date'] - orders['order_approved_at']).dt.total_seconds() / 3600\n",
        "\n",
        "# Delivery time of express delivery\n",
        "orders['delivery_tocusto'] = (orders['order_delivered_customer_date'] - orders['order_delivered_carrier_date']).dt.total_seconds() / 3600\n",
        "\n",
        "#Calculate the duration of the review answer\n",
        "order_reviews['review_toanswer'] = (order_reviews['review_answer_timestamp'] - order_reviews['review_creation_date']).dt.total_seconds() / 3600\n",
        "\n",
        "# Compare order_delivered_custom_date and order_ estimated d_delivery_date\n",
        "orders['estimated_delivery_later'] = (orders['order_estimated_delivery_date'] > orders['order_delivered_customer_date']).astype(int) #Mark 1 if arrive in time\n"
      ]
    },
    {
      "cell_type": "markdown",
      "metadata": {
        "id": "_DU4znGHLZLO"
      },
      "source": [
        "##Label textual variables"
      ]
    },
    {
      "cell_type": "code",
      "execution_count": 11,
      "metadata": {
        "id": "WSVzQDn3Lr_W"
      },
      "outputs": [],
      "source": [
        "#Mark the content of the review\n",
        "order_reviews['title_flag'] = order_reviews['review_comment_title'].notna().astype(int)\n",
        "order_reviews['message_flag'] = order_reviews['review_comment_message'].notna().astype(int)\n",
        "\n",
        "#Mark the order status\n",
        "status_mapping = {\n",
        "    'created': 1,\n",
        "    'unavailable': 2,\n",
        "    'canceled': 3,\n",
        "    'approved': 4,\n",
        "    'invoiced': 5,\n",
        "    'processing': 6,\n",
        "    'shipped': 7,\n",
        "    'delivered': 8\n",
        "}\n",
        "\n",
        "#Convert text to numbers\n",
        "orders['order_status_numeric'] = orders['order_status'].map(status_mapping)\n",
        "\n",
        "\n",
        "\n",
        "payment_mapping = {\n",
        "    'not_defined': 0,\n",
        "    'voucher': 1,\n",
        "    'boleto': 2,\n",
        "    'credit_card': 3,\n",
        "    'debit_card': 4\n",
        "}\n",
        "#Convert text to numbers\n",
        "order_payments['payment_type_numeric'] = order_payments['payment_type'].map(payment_mapping)\n"
      ]
    },
    {
      "cell_type": "markdown",
      "metadata": {
        "id": "14laxrsSOOL3"
      },
      "source": [
        "##Calculate customers' loyalty"
      ]
    },
    {
      "cell_type": "code",
      "execution_count": 12,
      "metadata": {
        "id": "f7kUL6LGOZdm"
      },
      "outputs": [],
      "source": [
        "customer_loyalty = customers.groupby('customer_unique_id')['customer_id'].count().reset_index(name='Loyal customers')\n",
        "\n",
        "# Merge customers with the loyalty information\n",
        "customers_with_loyalty = customers.merge(\n",
        "    customer_loyalty,\n",
        "    on='customer_unique_id',\n",
        "    how='left'\n",
        ")"
      ]
    },
    {
      "cell_type": "markdown",
      "metadata": {
        "id": "IEK7xhqnuyou"
      },
      "source": [
        "#Separate orders with one/mulitple review scores"
      ]
    },
    {
      "cell_type": "code",
      "execution_count": 13,
      "metadata": {
        "id": "g-rSej74U6nd"
      },
      "outputs": [],
      "source": [
        "# Create a dictionary with order_id as the key and corresponding rows as the value\n",
        "order_reviews_dict = {}\n",
        "\n",
        "# Traverse the data box and store each row by order_id\n",
        "for index, row in order_reviews.iterrows():\n",
        "    order_id = row['order_id']\n",
        "    if order_id not in order_reviews_dict:\n",
        "        order_reviews_dict[order_id] = []\n",
        "    order_reviews_dict[order_id].append(row)\n",
        "\n",
        "# Create two lists to store classification results\n",
        "repeated_orders = []\n",
        "unique_orders = []\n",
        "\n",
        "# Traverse the dictionary to determine if order_id is duplicated\n",
        "for order_id, rows in order_reviews_dict.items():\n",
        "    if len(rows) > 1:\n",
        "        repeated_orders.extend(rows)\n",
        "    else:\n",
        "        unique_orders.extend(rows)\n",
        "\n",
        "# Convert the results to a DataFrame\n",
        "repeated_orders_df = pd.DataFrame(repeated_orders)\n",
        "unique_orders_df = pd.DataFrame(unique_orders)\n",
        "\n",
        "average_repeated_orders = repeated_orders_df.groupby('order_id')['review_score'].mean().reset_index()\n",
        "\n",
        "# Generate the final dataset\n",
        "repeated_orders_df.drop('review_score', axis=1, inplace=True)\n",
        "repeated_orders_df = repeated_orders_df.merge(average_repeated_orders, on='order_id')\n",
        "\n",
        "\n",
        "\n",
        "#Comments for clarification & reference\n",
        "repeat_df = (\n",
        "    repeated_orders_df\n",
        "    .merge(orders, on='order_id', how='inner')  # Use modified 'orders' with calculated durations\n",
        "    .merge(order_payments, on='order_id', how='inner')\n",
        "    .merge(customers, on='customer_id', how='inner')\n",
        "    .merge(order_items, on='order_id', how='inner')\n",
        "    .merge(products, on='product_id', how='inner')\n",
        "    .merge(customer_loyalty, on='customer_unique_id', how='left')\n",
        ")\n",
        "\n",
        "unique_df = (\n",
        "    unique_orders_df\n",
        "    .merge(orders, on='order_id', how='inner')  # Use modified 'orders' with calculated durations\n",
        "    .merge(order_payments, on='order_id', how='inner')\n",
        "    .merge(customers, on='customer_id', how='inner')\n",
        "    .merge(order_items, on='order_id', how='inner')\n",
        "    .merge(products, on='product_id', how='inner')\n",
        "    .merge(customer_loyalty, on='customer_unique_id', how='left')\n",
        ")\n"
      ]
    },
    {
      "cell_type": "markdown",
      "metadata": {
        "id": "_kmcB9DSuxqZ"
      },
      "source": [
        "#Joining datasets\n",
        "\n",
        "\n"
      ]
    },
    {
      "cell_type": "code",
      "execution_count": 14,
      "metadata": {
        "id": "arfp6s8fkvPc"
      },
      "outputs": [],
      "source": [
        "repeat_df.drop(['review_creation_date','review_comment_title', 'review_comment_message', 'review_answer_timestamp', 'order_approved_at', 'order_delivered_carrier_date', 'order_delivered_customer_date', 'order_estimated_delivery_date'], axis=1, inplace=True)\n",
        "unique_df.drop(['review_creation_date','review_comment_title', 'review_comment_message', 'review_answer_timestamp', 'order_approved_at', 'order_delivered_carrier_date', 'order_delivered_customer_date', 'order_estimated_delivery_date'], axis=1, inplace=True)\n",
        "\n",
        "final_df = pd.concat([repeat_df,unique_df], ignore_index=True)\n",
        "\n",
        "\n",
        "\n"
      ]
    },
    {
      "cell_type": "markdown",
      "metadata": {
        "id": "F2rnxD_8PPN6"
      },
      "source": [
        "#Lasso"
      ]
    },
    {
      "cell_type": "code",
      "execution_count": 15,
      "metadata": {
        "colab": {
          "base_uri": "https://localhost:8080/"
        },
        "id": "2umwdFdfP_x6",
        "outputId": "2f25ca8b-53d7-4404-a80f-02221a6d427d"
      },
      "outputs": [
        {
          "output_type": "stream",
          "name": "stdout",
          "text": [
            "['seller_id_x', 'seller_id_y']\n"
          ]
        }
      ],
      "source": [
        "nodelivery_df = final_df[final_df['order_status_numeric'].isin([1, 2, 3, 4, 5, 6])]\n",
        "print([col for col in nodelivery_df.columns if 'seller_id' in col])\n",
        "\n",
        "nodelivery_df.drop(['review_id','order_id', 'customer_id', 'order_status', 'delivery_fromseller', 'delivery_tocusto', 'payment_type','customer_unique_id','product_id','seller_id_x', 'seller_id_y'], axis=1, inplace=True)\n",
        "#Seller_id error above (for reference)\n",
        "\n",
        "\n",
        "nodelivery_df.drop(['order_purchase_timestamp','customer_city','customer_state','shipping_limit_date'], axis=1, inplace=True)\n",
        "\n",
        "\n",
        "delivery_df = final_df[final_df['order_status_numeric'].isin([7,8])]\n",
        "delivery_df.drop(['review_id','order_id', 'customer_id', 'order_status', 'payment_type','customer_unique_id','product_id','order_purchase_timestamp','customer_city','customer_state','shipping_limit_date','seller_id_x', 'seller_id_y'], axis=1, inplace=True)\n"
      ]
    },
    {
      "cell_type": "markdown",
      "metadata": {
        "id": "iQmjbBRzQ_rI"
      },
      "source": [
        "##Orders without delivery time"
      ]
    },
    {
      "cell_type": "code",
      "execution_count": 16,
      "metadata": {
        "id": "ram5xwk8PRjR"
      },
      "outputs": [],
      "source": [
        "from sklearn.preprocessing import StandardScaler\n",
        "from sklearn.linear_model import Lasso # Import Lasso class from sklearn.linear_model\n",
        "from sklearn.model_selection import train_test_split # Import train_test_split\n",
        "from sklearn.metrics import mean_squared_error # Import mean_squared_error\n",
        "\n",
        "\n",
        "X1 = nodelivery_df.drop(['review_score'], axis=1)  # All features\n",
        "y1 = nodelivery_df['review_score']  # Target variable\n",
        "\n",
        "# Handling missing values\n",
        "X1.fillna(0, inplace=True)\n",
        "X1 = pd.get_dummies(X1, drop_first=True)  # Exclusive hot encoding\n",
        "\n",
        "# Standardized features\n",
        "scaler1 = StandardScaler()\n",
        "X1_scaled = scaler1.fit_transform(X1)\n",
        "\n",
        "X1_train, X1_test, y1_train, y1_test = train_test_split(X1_scaled, y1, test_size=0.2, random_state=42)"
      ]
    },
    {
      "cell_type": "code",
      "execution_count": 17,
      "metadata": {
        "id": "D3caCBuxXjwa",
        "colab": {
          "base_uri": "https://localhost:8080/"
        },
        "outputId": "2bfd0e18-f69a-467f-f288-cfc9de757e05"
      },
      "outputs": [
        {
          "output_type": "stream",
          "name": "stdout",
          "text": [
            "Best alpha: 0.020655944899140383\n"
          ]
        }
      ],
      "source": [
        "from sklearn.linear_model import LassoCV\n",
        "\n",
        "lasso_cv = LassoCV(cv=5)  #cross validation\n",
        "lasso_cv.fit(X1_train, y1_train)\n",
        "print(f'Best alpha: {lasso_cv.alpha_}')"
      ]
    },
    {
      "cell_type": "code",
      "execution_count": 20,
      "metadata": {
        "id": "l1OmSrWLXlRS",
        "colab": {
          "base_uri": "https://localhost:8080/"
        },
        "outputId": "5bac9189-d57d-4129-acee-48e2d3b2d9da"
      },
      "outputs": [
        {
          "output_type": "stream",
          "name": "stdout",
          "text": [
            "Mean Squared Error: 1.1450843020714325\n",
            "                                                    Coefficient\n",
            "message_flag                                          -0.179523\n",
            "customer_zip_code_prefix_x                            -0.042968\n",
            "seller_zip_code_prefix                                -0.185363\n",
            "distance_km                                            0.149818\n",
            "estimated_delivery_later                               0.109821\n",
            "order_status_numeric                                  -0.003020\n",
            "payment_type_numeric                                  -0.008679\n",
            "customer_zip_code_prefix_y                            -0.000005\n",
            "price                                                 -0.019477\n",
            "product_weight_g                                      -0.039475\n",
            "product_length_cm                                     -0.056148\n",
            "product_height_cm                                      0.027374\n",
            "product_width_cm                                      -0.015393\n",
            "weight_rating                                          0.083641\n",
            "descleng_rating                                       -0.077604\n",
            "Loyal customers                                        0.097559\n",
            "product_category_name_alimentos                       -0.010294\n",
            "product_category_name_alimentos_bebidas                0.182140\n",
            "product_category_name_artes                           -0.029602\n",
            "product_category_name_automotivo                       0.257015\n",
            "product_category_name_bebes                           -0.010156\n",
            "product_category_name_casa_construcao                  0.057274\n",
            "product_category_name_climatizacao                    -0.005119\n",
            "product_category_name_consoles_games                  -0.023362\n",
            "product_category_name_construcao_ferramentas_ja...    -0.014166\n",
            "product_category_name_construcao_ferramentas_se...     0.114490\n",
            "product_category_name_cool_stuff                      -0.005572\n",
            "product_category_name_eletrodomesticos                 0.013465\n",
            "product_category_name_eletronicos                      0.025713\n",
            "product_category_name_fashion_calcados                -0.010868\n",
            "product_category_name_fashion_roupa_feminina           0.001695\n",
            "product_category_name_fashion_roupa_infanto_juv...    -0.002060\n",
            "product_category_name_informatica_acessorios          -0.049598\n",
            "product_category_name_instrumentos_musicais            0.342964\n",
            "product_category_name_livros_importados                0.028981\n",
            "product_category_name_livros_interesse_geral           0.022293\n",
            "product_category_name_livros_tecnicos                 -0.012228\n",
            "product_category_name_malas_acessorios                 0.005894\n",
            "product_category_name_market_place                    -0.012583\n",
            "product_category_name_moveis_decoracao                -0.097722\n",
            "product_category_name_moveis_quarto                    0.008073\n",
            "product_category_name_papelaria                        0.003607\n",
            "product_category_name_pcs                              0.060109\n",
            "product_category_name_pet_shop                        -0.009809\n",
            "product_category_name_portateis_casa_forno_e_cafe     -0.005295\n",
            "product_category_name_portateis_cozinha_e_prepa...    -0.002392\n",
            "product_category_name_relogios_presentes              -0.007572\n",
            "product_category_name_sinalizacao_e_seguranca          0.023630\n",
            "product_category_name_telefonia_fixa                   0.006297\n",
            "product_category_name_utilidades_domesticas            0.006884\n"
          ]
        }
      ],
      "source": [
        "lasso1 = Lasso(alpha= lasso_cv.alpha_) #using the best alpha value\n",
        "lasso1.fit(X1_train, y1_train)\n",
        "\n",
        "\n",
        "y1_pred = lasso1.predict(X1_test)\n",
        "mse1 = mean_squared_error(y1_test, y1_pred)\n",
        "print(f'Mean Squared Error: {mse1}')\n",
        "\n",
        "\n",
        "coefficients = pd.DataFrame(lasso1.coef_, index=X1.columns, columns=['Coefficient'])\n",
        "print(coefficients[coefficients['Coefficient'] != 0])"
      ]
    },
    {
      "cell_type": "markdown",
      "metadata": {
        "id": "hR9wCgZ7RcnP"
      },
      "source": [
        "##Orders with delivery time"
      ]
    },
    {
      "cell_type": "code",
      "execution_count": null,
      "metadata": {
        "id": "sTQEW2RjRcnQ"
      },
      "outputs": [],
      "source": [
        "X2 = delivery_df.drop(['review_score'], axis=1)  # All features\n",
        "y2 = delivery_df['review_score']  # Target variable\n",
        "\n",
        "# Handling missing values\n",
        "X2.fillna(0, inplace=True)\n",
        "X2 = pd.get_dummies(X2, drop_first=True)  # Exclusive hot encoding\n",
        "\n",
        "# Standardized features\n",
        "scaler2 = StandardScaler()\n",
        "X2_scaled = scaler2.fit_transform(X2)\n",
        "\n",
        "X2_train, X2_test, y2_train, y2_test = train_test_split(X2_scaled, y2, test_size=0.2, random_state=42)\n"
      ]
    },
    {
      "cell_type": "code",
      "execution_count": null,
      "metadata": {
        "colab": {
          "base_uri": "https://localhost:8080/"
        },
        "id": "eH0H0nx4YC9-",
        "outputId": "5d3227b4-f795-46cc-91f6-90db7cf6db56"
      },
      "outputs": [
        {
          "output_type": "stream",
          "name": "stdout",
          "text": [
            "Best alpha: 0.0006832769995231099\n"
          ]
        }
      ],
      "source": [
        "from sklearn.linear_model import LassoCV\n",
        "\n",
        "lasso_cv = LassoCV(cv=5)  #cross validation\n",
        "lasso_cv.fit(X2_train, y2_train)\n",
        "print(f'Best alpha: {lasso_cv.alpha_}')"
      ]
    },
    {
      "cell_type": "code",
      "execution_count": null,
      "metadata": {
        "colab": {
          "base_uri": "https://localhost:8080/"
        },
        "id": "Lcz1E8U4YC1v",
        "outputId": "22e094e6-c75a-43b4-aa60-7c36a4877554"
      },
      "outputs": [
        {
          "name": "stdout",
          "output_type": "stream",
          "text": [
            "Mean Squared Error: 1.4914671321210733\n",
            "                                              Coefficient\n",
            "title_flag                                       0.007229\n",
            "message_flag                                    -0.321216\n",
            "delivery_fromseller                             -0.095489\n",
            "delivery_tocusto                                -0.179459\n",
            "estimated_delivery_later                         0.318805\n",
            "order_status_numeric                             0.100124\n",
            "payment_installments                            -0.000074\n",
            "payment_value                                   -0.068249\n",
            "customer_zip_code_prefix                         0.009241\n",
            "order_item_id                                   -0.141586\n",
            "price                                            0.054815\n",
            "weight_rating                                    0.005061\n",
            "product_category_name_beleza_saude               0.007587\n",
            "product_category_name_cama_mesa_banho           -0.030395\n",
            "product_category_name_fashion_calcados           0.000852\n",
            "product_category_name_ferramentas_jardim         0.004050\n",
            "product_category_name_fraldas_higiene           -0.001577\n",
            "product_category_name_informatica_acessorios    -0.000428\n",
            "product_category_name_livros_interesse_geral     0.005629\n",
            "product_category_name_malas_acessorios           0.002955\n",
            "product_category_name_moveis_decoracao          -0.005258\n",
            "product_category_name_moveis_escritorio         -0.002795\n"
          ]
        }
      ],
      "source": [
        "lasso2 = Lasso(alpha=0.015)\n",
        "lasso2.fit(X2_train, y2_train)\n",
        "\n",
        "\n",
        "y2_pred = lasso2.predict(X2_test)\n",
        "mse2 = mean_squared_error(y2_test, y2_pred)\n",
        "print(f'Mean Squared Error: {mse2}')\n",
        "\n",
        "\n",
        "coefficients = pd.DataFrame(lasso2.coef_, index=X2.columns, columns=['Coefficient'])\n",
        "print(coefficients[coefficients['Coefficient'] != 0])"
      ]
    }
  ],
  "metadata": {
    "colab": {
      "provenance": [],
      "include_colab_link": true
    },
    "kernelspec": {
      "display_name": "Python 3",
      "name": "python3"
    },
    "language_info": {
      "name": "python"
    }
  },
  "nbformat": 4,
  "nbformat_minor": 0
}
